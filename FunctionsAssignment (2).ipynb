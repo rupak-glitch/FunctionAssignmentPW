{
  "nbformat": 4,
  "nbformat_minor": 0,
  "metadata": {
    "colab": {
      "provenance": []
    },
    "kernelspec": {
      "name": "python3",
      "display_name": "Python 3"
    },
    "language_info": {
      "name": "python"
    }
  },
  "cells": [
    {
      "cell_type": "markdown",
      "source": [
        "#Theory Questions"
      ],
      "metadata": {
        "id": "OZ7BxrCSk1BA"
      }
    },
    {
      "cell_type": "markdown",
      "source": [
        "1.  What is the difference between a function and a method in Python?\n",
        "    - Function-\n",
        "              A function in Python is a block of reusable code that performs a specific task.\n",
        "              It is defined using the def keyword.\n",
        "             It can exist independently (outside of any class).You call it directly by its name."
      ],
      "metadata": {
        "id": "QuFSDKPWlfN1"
      }
    },
    {
      "cell_type": "code",
      "source": [
        "#example\n",
        "def add(a, b):\n",
        "    return a + b\n",
        "\n",
        "print(add(2, 3))"
      ],
      "metadata": {
        "colab": {
          "base_uri": "https://localhost:8080/"
        },
        "id": "gm-uG2X9k0Oj",
        "outputId": "e5bd54df-76b5-4951-9ad1-884b289d49fc"
      },
      "execution_count": null,
      "outputs": [
        {
          "output_type": "stream",
          "name": "stdout",
          "text": [
            "5\n"
          ]
        }
      ]
    },
    {
      "cell_type": "markdown",
      "source": [
        "  - Method-\n",
        "           A method is also a function, but it is associated with anobject/ class.  Methods are defined inside a class.\n",
        "          You call it using the object (or class if it’s a class method).\n",
        "          Methods usually work with the data (attributes) of that specific object."
      ],
      "metadata": {
        "id": "JhqWYrM-m4zj"
      }
    },
    {
      "cell_type": "code",
      "source": [
        "#example-\n",
        "class Calculator:\n",
        "    def add(self, a, b):\n",
        "        return a + b\n",
        "\n",
        "calc = Calculator()\n",
        "print(calc.add(2, 3))"
      ],
      "metadata": {
        "colab": {
          "base_uri": "https://localhost:8080/"
        },
        "id": "02khiHLNna9o",
        "outputId": "c92dccc9-9288-40d3-c2f1-3afcd58b3502"
      },
      "execution_count": null,
      "outputs": [
        {
          "output_type": "stream",
          "name": "stdout",
          "text": [
            "5\n"
          ]
        }
      ]
    },
    {
      "cell_type": "markdown",
      "source": [
        "2. Explain the concept of function arguments and parameters in Python.\n",
        "\n",
        "    - Parameters are the variable names that are written in the function definition. They act as placeholders that define what kind of values the function expects as input.\n",
        "    \n",
        "    - Arguments are the actual values that we provide when we call the function. These values are passed into the parameters of the function.\n",
        "   "
      ],
      "metadata": {
        "id": "BCpbvg-doMsi"
      }
    },
    {
      "cell_type": "code",
      "source": [
        "#Example\n",
        "def greet(name):\n",
        "    print(\"Hello\", name)\n",
        "\n",
        "greet(\"Rupak\")\n",
        "#here, name is the parameter and Rupak is the argument"
      ],
      "metadata": {
        "colab": {
          "base_uri": "https://localhost:8080/"
        },
        "id": "YQc7jPeupKjK",
        "outputId": "83438922-8a8a-47cd-fd65-1369a9250afb"
      },
      "execution_count": null,
      "outputs": [
        {
          "output_type": "stream",
          "name": "stdout",
          "text": [
            "Hello Rupak\n"
          ]
        }
      ]
    },
    {
      "cell_type": "markdown",
      "source": [
        "3.  What are the different ways to define and call a function in Python?\n",
        "\n",
        "    - In Python, functions can be defined in multiple ways depending on the use case. A function is defined using the def keyword or lambda, and called by writing its name followed by parentheses.\n",
        "    -Example"
      ],
      "metadata": {
        "id": "KpfSacW8ps0i"
      }
    },
    {
      "cell_type": "code",
      "source": [
        "# Standard Function\n",
        "def greet():\n",
        "    print(\"Hello, rupak\")\n",
        "\n",
        "greet()   # Function call\n",
        "\n",
        "\n",
        "# 2. Function with Parameters\n",
        "def add(a, b):\n",
        "    return a + b\n",
        "\n",
        "print(add(5, 3))   # Output: 8\n",
        "\n",
        "\n",
        "# 3. Function with Default Parameters\n",
        "def greet_user(name=\"Guest\"):\n",
        "    print(\"Hello,\", name)\n",
        "\n",
        "greet_user()          # Uses default → Guest\n",
        "greet_user(\"Rupak\")   # Uses given argument\n",
        "\n",
        "\n",
        "# 4. Lambda Function (Anonymous Function)\n",
        "square = lambda x: x * x\n",
        "print(square(4))   # Output: 16\n",
        "\n",
        "\n",
        "# 5. Function with *args and **kwargs\n",
        "def show(*args, **kwargs):\n",
        "    print(\"Positional:\", args)\n",
        "    print(\"Keyword:\", kwargs)\n",
        "\n",
        "show(1, 2, 3, name=\"Rupak\", age=21)"
      ],
      "metadata": {
        "colab": {
          "base_uri": "https://localhost:8080/"
        },
        "id": "U-tBfg3itu6f",
        "outputId": "317d7e2b-9b49-47ae-cff1-84c57f4de68b"
      },
      "execution_count": null,
      "outputs": [
        {
          "output_type": "stream",
          "name": "stdout",
          "text": [
            "Hello, rupak\n",
            "8\n",
            "Hello, Guest\n",
            "Hello, Rupak\n",
            "16\n",
            "Positional: (1, 2, 3)\n",
            "Keyword: {'name': 'Rupak', 'age': 21}\n"
          ]
        }
      ]
    },
    {
      "cell_type": "markdown",
      "source": [
        "4. What is the purpose of the 'return' statement in a Python function?\n",
        "\n",
        "   - The return statement in Python is used to send the result of a function back to the part of the program where the function was called. When a function executes a return statement, it ends the function's execution and provides the specified value to the caller.If a function does not have a return statement, it will return None by default."
      ],
      "metadata": {
        "id": "DBS91vgyuDRB"
      }
    },
    {
      "cell_type": "code",
      "source": [
        "#Example\n",
        "def add(a, b):\n",
        "    return a + b\n",
        "add(6,8)"
      ],
      "metadata": {
        "colab": {
          "base_uri": "https://localhost:8080/"
        },
        "id": "RzXCq0ZNuX8O",
        "outputId": "e4ab12ac-5427-44b2-897b-6ee2e5141b51"
      },
      "execution_count": null,
      "outputs": [
        {
          "output_type": "execute_result",
          "data": {
            "text/plain": [
              "14"
            ]
          },
          "metadata": {},
          "execution_count": 6
        }
      ]
    },
    {
      "cell_type": "markdown",
      "source": [
        "5. What are iterators in Python and how do they differ from iterables?\n",
        "   - In Python, an iterator is an object that allows us to traverse through all the elements of a collection (such as lists, tuples, or strings), one element at a time. An iterator must implement two methods:\n",
        "          __iter__() → returns the iterator object itself.\n",
        "          __next__() → returns the next value from the sequence. When there are no more items, it raises a StopIteration exception.\n",
        "\n",
        " - An iterable is any Python object that can return an iterator using the iter() function. Examples of iterables include lists, tuples, sets, strings, and dictionaries."
      ],
      "metadata": {
        "id": "PMnFogjpukfi"
      }
    },
    {
      "cell_type": "code",
      "source": [
        "#example\n",
        "numbers = [1, 2, 3]\n",
        "it = iter(numbers)\n",
        "print(next(it))\n",
        "print(next(it))\n",
        "print(next(it))\n"
      ],
      "metadata": {
        "colab": {
          "base_uri": "https://localhost:8080/"
        },
        "id": "Ii7dkbvsvVNg",
        "outputId": "219cce64-3f2d-4d4a-ae5c-9196f105bd46"
      },
      "execution_count": null,
      "outputs": [
        {
          "output_type": "stream",
          "name": "stdout",
          "text": [
            "1\n",
            "2\n",
            "3\n"
          ]
        }
      ]
    },
    {
      "cell_type": "markdown",
      "source": [
        "6. Explain the concept of generators in Python and how they are defined.\n",
        "  - A generator in Python is a special type of function that returns an iterator. Instead of using return, a generator uses the yield keyword to produce values one at a time. Each time the function is called, it resumes from where it left off, making it memory-efficient."
      ],
      "metadata": {
        "id": "sfTd2eZWvkl0"
      }
    },
    {
      "cell_type": "code",
      "source": [
        "#Example\n",
        "def square_generator(n):\n",
        "    for i in range(n):\n",
        "        yield i ** 2\n",
        "\n",
        "squares = square_generator(5)\n",
        "for square in squares:\n",
        "    print(square)\n",
        "\n"
      ],
      "metadata": {
        "colab": {
          "base_uri": "https://localhost:8080/"
        },
        "id": "OFn-onopvkTt",
        "outputId": "7532b628-50f2-4637-d29f-bd257540ac8f"
      },
      "execution_count": null,
      "outputs": [
        {
          "output_type": "stream",
          "name": "stdout",
          "text": [
            "0\n",
            "1\n",
            "4\n",
            "9\n",
            "16\n"
          ]
        }
      ]
    },
    {
      "cell_type": "markdown",
      "source": [
        "7.  What are the advantages of using generators over regular functions?\n",
        "\n",
        "   - Generators provide several benefits compared to regular functions:\n",
        "\n",
        "      1.Memory Efficiency – They generate values one at a time instead of storing the whole sequence in memory.\n",
        "\n",
        "      2.Faster Execution for Large Data – Since values are produced on demand, they are more efficient for working with big datasets or streams of data.\n",
        "\n",
        "      3.Maintain State Automatically – Generators remember where they left off, so there is no need to manage indexes or loop counters manually.\n",
        "\n",
        "      4.Infinite Sequences – They can represent infinite data streams (like continuous sensor data) without running out of memory.\n",
        "\n",
        "      5.Cleaner Code – Generators simplify code that would otherwise require building and returning large lists."
      ],
      "metadata": {
        "id": "zpEbkqYFwXS-"
      }
    },
    {
      "cell_type": "code",
      "source": [
        "#example\n",
        "def fibonacci_generator(n):\n",
        "    a, b = 0, 1\n",
        "    count = 0\n",
        "    while count < n:\n",
        "        yield a\n",
        "        a, b = b, a + b\n",
        "        count += 1\n",
        "for i in fibonacci_generator(5):\n",
        "    print(i)"
      ],
      "metadata": {
        "colab": {
          "base_uri": "https://localhost:8080/"
        },
        "id": "BWnJcq2XyK6K",
        "outputId": "19522eab-c863-432a-ac62-16b2819147b7"
      },
      "execution_count": null,
      "outputs": [
        {
          "output_type": "stream",
          "name": "stdout",
          "text": [
            "0\n",
            "1\n",
            "1\n",
            "2\n",
            "3\n"
          ]
        }
      ]
    },
    {
      "cell_type": "markdown",
      "source": [
        "8.  What is a lambda function in Python and when is it typically used?\n",
        "\n",
        "   - A lambda function in Python is a small, anonymous function that is defined using the lambda keyword instead of def. It can take any number of arguments but can only have a single expression. The expression is evaluated and returned automatically.\n",
        "   - It is mainly used for short operations, especially inside functions like  map(), filter(), or sorted()\n"
      ],
      "metadata": {
        "id": "2PQAbG8m0qEd"
      }
    },
    {
      "cell_type": "code",
      "source": [
        "#example\n",
        "square = lambda x: x * x\n",
        "print(square(5))"
      ],
      "metadata": {
        "colab": {
          "base_uri": "https://localhost:8080/"
        },
        "id": "t-KLgeDf03Ef",
        "outputId": "4e46e6ff-236e-45ab-bdf8-d21bca6b9492"
      },
      "execution_count": null,
      "outputs": [
        {
          "output_type": "stream",
          "name": "stdout",
          "text": [
            "25\n"
          ]
        }
      ]
    },
    {
      "cell_type": "markdown",
      "source": [
        "9. Explain the purpose and usage of the 'map()' function in Python.\n",
        "\n",
        "- The map() function in Python is used to apply a function to each item of an iterable (like a list, tuple, or string) and return a new iterator with the results. It is useful when you want to perform the same operation on all elements of a collection without writing an explicit loop."
      ],
      "metadata": {
        "id": "9YTKg73M1PkW"
      }
    },
    {
      "cell_type": "code",
      "source": [
        "#example\n",
        "nums = [1, 2, 3, 4]\n",
        "result = map(lambda x: x + 10, nums)\n",
        "print(list(result))"
      ],
      "metadata": {
        "colab": {
          "base_uri": "https://localhost:8080/"
        },
        "id": "7h2Rkh6W1jLA",
        "outputId": "8561f6e2-b405-42e0-ebe7-f8039a010f49"
      },
      "execution_count": null,
      "outputs": [
        {
          "output_type": "stream",
          "name": "stdout",
          "text": [
            "[11, 12, 13, 14]\n"
          ]
        }
      ]
    },
    {
      "cell_type": "markdown",
      "source": [
        "10. What is the difference between `map()`, `reduce()`, and `filter()` functions in Python?\n",
        "\n",
        "   - map()-  It applies a given function to each element of an iterable.     Returns a new iterator with the transformed values.\n",
        "          Example:\n",
        "          nums = [1, 2, 3, 4]\n",
        "          squares = list(map(lambda x: x*x, nums))\n",
        "          print(squares)   # [1, 4, 9, 16]\n",
        "\n",
        "    - filter()- It filters elements of an iterable using a function that returns True or False. Returns only the elements for which the function returns True.\n",
        "                  Example:\n",
        "                  nums = [1, 2, 3, 4, 5]\n",
        "                  evens = list(filter(lambda x: x % 2 == 0, nums))\n",
        "                  print(evens)   # [2, 4]\n",
        "    \n",
        "    - reduce()- It repeatedly applies a function to the elements of an iterable, reducing it to a single cumulative value. It is available in the functools module.\n",
        "\n",
        "                  Example:\n",
        "                  from functools import reduce\n",
        "                  nums = [1, 2, 3, 4]\n",
        "                  product = reduce(lambda x, y: x * y, nums)\n",
        "                  print(product)   # 24"
      ],
      "metadata": {
        "id": "666MEJny1tHt"
      }
    },
    {
      "cell_type": "markdown",
      "source": [
        "11. Using pen & Paper write the internal mechanism for sum operation using  reduce function on this given  list:[47,11,42,13];\n",
        "   -"
      ],
      "metadata": {
        "id": "mxqD7BfQ3POw"
      }
    },
    {
      "cell_type": "code",
      "source": [
        "from PIL import Image\n",
        "import matplotlib.pyplot as plt\n",
        "\n",
        "\n",
        "img = Image.open(\"paper.jpg\")\n",
        "\n",
        "\n",
        "portrait_img = img.rotate(-90, expand=True)\n",
        "\n",
        "\n",
        "plt.imshow(portrait_img)\n",
        "plt.axis(\"off\")\n",
        "plt.show()\n",
        "\n",
        "\n",
        "portrait_img.save(\"paper_portrait.jpg\")\n"
      ],
      "metadata": {
        "colab": {
          "base_uri": "https://localhost:8080/",
          "height": 406
        },
        "id": "2nYpSw-W-39h",
        "outputId": "c82dae12-c032-42aa-e53b-ccf82c6f1264"
      },
      "execution_count": 20,
      "outputs": [
        {
          "output_type": "display_data",
          "data": {
            "text/plain": [
              "<Figure size 640x480 with 1 Axes>"
            ],
            "image/png": "[encoded data removed]"
          },
          "metadata": {}
        }
      ]
    },
    {
      "cell_type": "markdown",
      "source": [
        "imagelink-[image](https://drive.google.com/file/d/1VdJcYsRv5Gqtgy6oIJEkV7xgTuWkzEvj/view?usp=sharing)"
      ],
      "metadata": {
        "id": "ucs6ONfMLngK"
      }
    },
    {
      "cell_type": "markdown",
      "source": [
        "***![MY\n",
        "Image](https://drive.google.com/file/d/1VdJcYsRv5Gqtgy6oIJEkV7xgTuWkzEvj/view?usp=sharing)"
      ],
      "metadata": {
        "id": "3NphrbZfAGEQ"
      }
    },
    {
      "cell_type": "markdown",
      "source": [
        "#Practical Questions"
      ],
      "metadata": {
        "id": "NvMk2OCJAYOT"
      }
    },
    {
      "cell_type": "code",
      "source": [
        "#1 Write a Python function that takes a list of numbers as input and returns the sum of all even numbers in the list.\n",
        "\n",
        "def sum_of_evens(numbers):\n",
        "    total = 0\n",
        "    for num in numbers:\n",
        "        if num % 2 == 0:\n",
        "            total += num\n",
        "    return total\n",
        "user_input = input(\"Enter numbers separated by spaces: \")\n",
        "nums = list(map(int, user_input.split()))\n",
        "\n",
        "result = sum_of_evens(nums)\n",
        "print(\"Sum of even numbers:\", result)"
      ],
      "metadata": {
        "colab": {
          "base_uri": "https://localhost:8080/"
        },
        "id": "95LUDxJWAlNC",
        "outputId": "812ef324-dcc7-44b9-c30e-3f6069c4bd09"
      },
      "execution_count": null,
      "outputs": [
        {
          "output_type": "stream",
          "name": "stdout",
          "text": [
            "Enter numbers separated by spaces: 2 4 5 6 8 9 13\n",
            "Sum of even numbers: 20\n"
          ]
        }
      ]
    },
    {
      "cell_type": "code",
      "source": [
        "#2 Create a Python function that accepts a string and returns the reverse of that string.\n",
        "def revstring(str1):\n",
        "  return str1[::-1]\n",
        "str1=input(\"enter the string- \")\n",
        "print(\"reversed String is : \" ,revstring(str1))\n"
      ],
      "metadata": {
        "colab": {
          "base_uri": "https://localhost:8080/"
        },
        "id": "sGVb7fb-Bqal",
        "outputId": "8285183b-57f5-4a3a-a882-04c9a90c767e"
      },
      "execution_count": null,
      "outputs": [
        {
          "output_type": "stream",
          "name": "stdout",
          "text": [
            "enter the string- rupak\n",
            "reversed String is :  kapur\n"
          ]
        }
      ]
    },
    {
      "cell_type": "code",
      "source": [
        "#3. Implement a Python function that takes a list of integers and returns a new list containing the squares of each number.\n",
        "def square_list(numbers):\n",
        "    squares = []\n",
        "    for num in numbers:\n",
        "        squares.append(num ** 2)\n",
        "    return squares\n",
        "numbers=[2,4,5,6,7,9]\n",
        "square_list(numbers)"
      ],
      "metadata": {
        "colab": {
          "base_uri": "https://localhost:8080/"
        },
        "id": "7TdNNNRiCk7Y",
        "outputId": "b10802fb-2eee-450b-d753-8795b7fa8c25"
      },
      "execution_count": null,
      "outputs": [
        {
          "output_type": "execute_result",
          "data": {
            "text/plain": [
              "[4, 16, 25, 36, 49, 81]"
            ]
          },
          "metadata": {},
          "execution_count": 12
        }
      ]
    },
    {
      "cell_type": "code",
      "source": [
        "#4.  Write a Python function that checks if a given number is prime or not from 1 to 200.\n",
        "def is_prime(n):\n",
        "    if n < 2:\n",
        "        return False\n",
        "    for i in range(2, int(n**0.5) + 1):\n",
        "        if n % i == 0:\n",
        "            return False\n",
        "    return True\n",
        "\n",
        "for num in range(1, 201):\n",
        "    if is_prime(num):\n",
        "        print(num, \"is a Prime number\")\n",
        "    else:\n",
        "        print(num, \"is not a Prime number\")"
      ],
      "metadata": {
        "colab": {
          "base_uri": "https://localhost:8080/"
        },
        "id": "RhN3ckS7DAau",
        "outputId": "5f9d2bbe-23a4-4c84-950e-9708e578a7eb"
      },
      "execution_count": null,
      "outputs": [
        {
          "output_type": "stream",
          "name": "stdout",
          "text": [
            "1 is not a Prime number\n",
            "2 is a Prime number\n",
            "3 is a Prime number\n",
            "4 is not a Prime number\n",
            "5 is a Prime number\n",
            "6 is not a Prime number\n",
            "7 is a Prime number\n",
            "8 is not a Prime number\n",
            "9 is not a Prime number\n",
            "10 is not a Prime number\n",
            "11 is a Prime number\n",
            "12 is not a Prime number\n",
            "13 is a Prime number\n",
            "14 is not a Prime number\n",
            "15 is not a Prime number\n",
            "16 is not a Prime number\n",
            "17 is a Prime number\n",
            "18 is not a Prime number\n",
            "19 is a Prime number\n",
            "20 is not a Prime number\n",
            "21 is not a Prime number\n",
            "22 is not a Prime number\n",
            "23 is a Prime number\n",
            "24 is not a Prime number\n",
            "25 is not a Prime number\n",
            "26 is not a Prime number\n",
            "27 is not a Prime number\n",
            "28 is not a Prime number\n",
            "29 is a Prime number\n",
            "30 is not a Prime number\n",
            "31 is a Prime number\n",
            "32 is not a Prime number\n",
            "33 is not a Prime number\n",
            "34 is not a Prime number\n",
            "35 is not a Prime number\n",
            "36 is not a Prime number\n",
            "37 is a Prime number\n",
            "38 is not a Prime number\n",
            "39 is not a Prime number\n",
            "40 is not a Prime number\n",
            "41 is a Prime number\n",
            "42 is not a Prime number\n",
            "43 is a Prime number\n",
            "44 is not a Prime number\n",
            "45 is not a Prime number\n",
            "46 is not a Prime number\n",
            "47 is a Prime number\n",
            "48 is not a Prime number\n",
            "49 is not a Prime number\n",
            "50 is not a Prime number\n",
            "51 is not a Prime number\n",
            "52 is not a Prime number\n",
            "53 is a Prime number\n",
            "54 is not a Prime number\n",
            "55 is not a Prime number\n",
            "56 is not a Prime number\n",
            "57 is not a Prime number\n",
            "58 is not a Prime number\n",
            "59 is a Prime number\n",
            "60 is not a Prime number\n",
            "61 is a Prime number\n",
            "62 is not a Prime number\n",
            "63 is not a Prime number\n",
            "64 is not a Prime number\n",
            "65 is not a Prime number\n",
            "66 is not a Prime number\n",
            "67 is a Prime number\n",
            "68 is not a Prime number\n",
            "69 is not a Prime number\n",
            "70 is not a Prime number\n",
            "71 is a Prime number\n",
            "72 is not a Prime number\n",
            "73 is a Prime number\n",
            "74 is not a Prime number\n",
            "75 is not a Prime number\n",
            "76 is not a Prime number\n",
            "77 is not a Prime number\n",
            "78 is not a Prime number\n",
            "79 is a Prime number\n",
            "80 is not a Prime number\n",
            "81 is not a Prime number\n",
            "82 is not a Prime number\n",
            "83 is a Prime number\n",
            "84 is not a Prime number\n",
            "85 is not a Prime number\n",
            "86 is not a Prime number\n",
            "87 is not a Prime number\n",
            "88 is not a Prime number\n",
            "89 is a Prime number\n",
            "90 is not a Prime number\n",
            "91 is not a Prime number\n",
            "92 is not a Prime number\n",
            "93 is not a Prime number\n",
            "94 is not a Prime number\n",
            "95 is not a Prime number\n",
            "96 is not a Prime number\n",
            "97 is a Prime number\n",
            "98 is not a Prime number\n",
            "99 is not a Prime number\n",
            "100 is not a Prime number\n",
            "101 is a Prime number\n",
            "102 is not a Prime number\n",
            "103 is a Prime number\n",
            "104 is not a Prime number\n",
            "105 is not a Prime number\n",
            "106 is not a Prime number\n",
            "107 is a Prime number\n",
            "108 is not a Prime number\n",
            "109 is a Prime number\n",
            "110 is not a Prime number\n",
            "111 is not a Prime number\n",
            "112 is not a Prime number\n",
            "113 is a Prime number\n",
            "114 is not a Prime number\n",
            "115 is not a Prime number\n",
            "116 is not a Prime number\n",
            "117 is not a Prime number\n",
            "118 is not a Prime number\n",
            "119 is not a Prime number\n",
            "120 is not a Prime number\n",
            "121 is not a Prime number\n",
            "122 is not a Prime number\n",
            "123 is not a Prime number\n",
            "124 is not a Prime number\n",
            "125 is not a Prime number\n",
            "126 is not a Prime number\n",
            "127 is a Prime number\n",
            "128 is not a Prime number\n",
            "129 is not a Prime number\n",
            "130 is not a Prime number\n",
            "131 is a Prime number\n",
            "132 is not a Prime number\n",
            "133 is not a Prime number\n",
            "134 is not a Prime number\n",
            "135 is not a Prime number\n",
            "136 is not a Prime number\n",
            "137 is a Prime number\n",
            "138 is not a Prime number\n",
            "139 is a Prime number\n",
            "140 is not a Prime number\n",
            "141 is not a Prime number\n",
            "142 is not a Prime number\n",
            "143 is not a Prime number\n",
            "144 is not a Prime number\n",
            "145 is not a Prime number\n",
            "146 is not a Prime number\n",
            "147 is not a Prime number\n",
            "148 is not a Prime number\n",
            "149 is a Prime number\n",
            "150 is not a Prime number\n",
            "151 is a Prime number\n",
            "152 is not a Prime number\n",
            "153 is not a Prime number\n",
            "154 is not a Prime number\n",
            "155 is not a Prime number\n",
            "156 is not a Prime number\n",
            "157 is a Prime number\n",
            "158 is not a Prime number\n",
            "159 is not a Prime number\n",
            "160 is not a Prime number\n",
            "161 is not a Prime number\n",
            "162 is not a Prime number\n",
            "163 is a Prime number\n",
            "164 is not a Prime number\n",
            "165 is not a Prime number\n",
            "166 is not a Prime number\n",
            "167 is a Prime number\n",
            "168 is not a Prime number\n",
            "169 is not a Prime number\n",
            "170 is not a Prime number\n",
            "171 is not a Prime number\n",
            "172 is not a Prime number\n",
            "173 is a Prime number\n",
            "174 is not a Prime number\n",
            "175 is not a Prime number\n",
            "176 is not a Prime number\n",
            "177 is not a Prime number\n",
            "178 is not a Prime number\n",
            "179 is a Prime number\n",
            "180 is not a Prime number\n",
            "181 is a Prime number\n",
            "182 is not a Prime number\n",
            "183 is not a Prime number\n",
            "184 is not a Prime number\n",
            "185 is not a Prime number\n",
            "186 is not a Prime number\n",
            "187 is not a Prime number\n",
            "188 is not a Prime number\n",
            "189 is not a Prime number\n",
            "190 is not a Prime number\n",
            "191 is a Prime number\n",
            "192 is not a Prime number\n",
            "193 is a Prime number\n",
            "194 is not a Prime number\n",
            "195 is not a Prime number\n",
            "196 is not a Prime number\n",
            "197 is a Prime number\n",
            "198 is not a Prime number\n",
            "199 is a Prime number\n",
            "200 is not a Prime number\n"
          ]
        }
      ]
    },
    {
      "cell_type": "code",
      "source": [
        "#5. Create an iterator class in Python that generates the Fibonacci sequence up to a specified number of terms\n",
        "\n",
        "class Fibonacci:\n",
        "    def __init__(self, n_terms):\n",
        "        self.n_terms = n_terms\n",
        "        self.count = 0\n",
        "        self.a, self.b = 0, 1\n",
        "    def __iter__(self):\n",
        "        return self\n",
        "    def __next__(self):\n",
        "        if self.count >= self.n_terms:\n",
        "            raise StopIteration\n",
        "        if self.count == 0:\n",
        "            self.count += 1\n",
        "            return self.a\n",
        "        elif self.count == 1:\n",
        "            self.count += 1\n",
        "            return self.b\n",
        "        else:\n",
        "            self.a, self.b = self.b, self.a + self.b\n",
        "            self.count += 1\n",
        "            return self.b\n",
        "num=int(input(\"enter the number of terms:  \"))\n",
        "\n",
        "fib = Fibonacci(num)\n",
        "for num in fib:\n",
        "    print(num, end=\" \")\n"
      ],
      "metadata": {
        "id": "ar7mT7vHDcGj",
        "colab": {
          "base_uri": "https://localhost:8080/"
        },
        "outputId": "2507cc21-d287-44b3-c288-0e8aabfc47b8"
      },
      "execution_count": null,
      "outputs": [
        {
          "output_type": "stream",
          "name": "stdout",
          "text": [
            "enter the number of terms:  10\n",
            "0 1 1 2 3 5 8 13 21 34 "
          ]
        }
      ]
    },
    {
      "cell_type": "code",
      "source": [
        "# 6. Write a generator function in Python that yields the powers of 2 up to a given exponent.\n",
        "\n",
        "def powers_of_two(n):\n",
        "    for exp in range(n + 1):\n",
        "        yield 2 ** exp\n",
        "\n",
        "num=int(input(\"enter the number of maximum exponener: \"))\n",
        "\n",
        "for val in powers_of_two(num):\n",
        "    print(val, end=\" \")\n"
      ],
      "metadata": {
        "colab": {
          "base_uri": "https://localhost:8080/"
        },
        "id": "wuBXXTeuwLJL",
        "outputId": "c3a64d50-441f-48c9-8b3a-0d22f72e765d"
      },
      "execution_count": null,
      "outputs": [
        {
          "output_type": "stream",
          "name": "stdout",
          "text": [
            "enter the number of maximum exponener: 5\n",
            "1 2 4 8 16 32 "
          ]
        }
      ]
    },
    {
      "cell_type": "code",
      "source": [
        "#7 Implement a generator function that reads a file line by line and yields each line as a string.\n",
        "def read_file_lines(file_path):\n",
        "    with open(file_path, 'r') as file:\n",
        "        for line in file:\n",
        "            yield line.strip()\n"
      ],
      "metadata": {
        "id": "kPmalRjjxEWl"
      },
      "execution_count": null,
      "outputs": []
    },
    {
      "cell_type": "code",
      "source": [
        "#8. Use a lambda function in Python to sort a list of tuples based on the second element of each tuple.\n",
        "\n",
        "data = [(1, 5), (3, 1,4), (4, 6,4), (2, 3), (9, 0)]\n",
        "\n",
        "# Sort by the second element of each tuple\n",
        "sorted_data = sorted(data, key=lambda x: x[1])\n",
        "\n",
        "print(\"Original list:\", data)\n",
        "print(\"Sorted list (by second element):\", sorted_data)\n"
      ],
      "metadata": {
        "colab": {
          "base_uri": "https://localhost:8080/"
        },
        "id": "qm6e8sZFxeU6",
        "outputId": "a1e56ba6-2c6e-41c0-f7cb-aa0046ade746"
      },
      "execution_count": 1,
      "outputs": [
        {
          "output_type": "stream",
          "name": "stdout",
          "text": [
            "Original list: [(1, 5), (3, 1, 4), (4, 6, 4), (2, 3), (9, 0)]\n",
            "Sorted list (by second element): [(9, 0), (3, 1, 4), (2, 3), (1, 5), (4, 6, 4)]\n"
          ]
        }
      ]
    },
    {
      "cell_type": "code",
      "source": [
        "#9. write a Python program that uses `map()` to convert a list of temperatures from Celsius to Fahrenheit.\n",
        "\n",
        "def c_to_f(c):\n",
        "    return (c * 9/5) + 32\n",
        "\n",
        "\n",
        "celsius = [0, 20, 37, 100]\n",
        "\n",
        "fahrenheit = list(map(c_to_f, celsius))\n",
        "\n",
        "print(\"Celsius:\", celsius)\n",
        "print(\"Fahrenheit:\", fahrenheit)"
      ],
      "metadata": {
        "colab": {
          "base_uri": "https://localhost:8080/"
        },
        "id": "wFVRLX6Ux1Er",
        "outputId": "7e91cf55-7bff-4a30-b7da-d01036704ea7"
      },
      "execution_count": null,
      "outputs": [
        {
          "output_type": "stream",
          "name": "stdout",
          "text": [
            "Celsius: [0, 20, 37, 100]\n",
            "Fahrenheit: [32.0, 68.0, 98.6, 212.0]\n"
          ]
        }
      ]
    },
    {
      "cell_type": "code",
      "source": [
        "#10. Create a Python program that uses `filter()` to remove all the vowels from a given string.\n",
        "def remove_vowels(string):\n",
        "    vowels = \"aeiouAEIOU\"\n",
        "    filtered_string = \"\"\n",
        "    for char in string:\n",
        "        if char not in vowels:\n",
        "            filtered_string += char\n",
        "    return filtered_string\n",
        "string = input(\"Enter a string: \")\n",
        "filtered_string = remove_vowels(string)\n",
        "print(\"Original string:\", string)\n",
        "print(\"String without vowels:\", filtered_string)"
      ],
      "metadata": {
        "colab": {
          "base_uri": "https://localhost:8080/"
        },
        "id": "Sw6-q0qVyHBl",
        "outputId": "271ad95d-533f-4975-9843-75744b8bb53a"
      },
      "execution_count": null,
      "outputs": [
        {
          "output_type": "stream",
          "name": "stdout",
          "text": [
            "Enter a string: rupak singh\n",
            "Original string: rupak singh\n",
            "String without vowels: rpk sngh\n"
          ]
        }
      ]
    },
    {
      "cell_type": "code",
      "source": [
        "''' 11... Imagine an accounting routine used in a book shop. It works on a list with sublists, which look like this:\n",
        " order Number   Book title and author              Quantity              Price per Item\n",
        "  34587          Learning Python, Mark Lutz            4                   40.95\n",
        "  98762          Programming Python, Mark Lutz         5                   56.80\n",
        "  77226          Head First Python, Paul Barry         3                   32.95\n",
        "  88112          Einführung in Python3, Bernd Klein    3                   24.99\n",
        "\n",
        "\n",
        " Write a Python program, which returns a list with 2-tuples. Each tuple consists of the order number and the\n",
        "product of the price per item and the quantity. The product should be increased by 10,- € if the value of the\n",
        "order is smaller than 100,00 €.\n",
        " Write a Python program using lambda and map'''\n",
        "\n",
        " # List of orders: [Order Number, Book Title, Quantity, Price per Item]\n",
        "orders = [\n",
        "    [34587, \"Learning Python, Mark Lutz\", 4, 40.95],\n",
        "    [98762, \"Programming Python, Mark Lutz\", 5, 56.80],\n",
        "    [77226, \"Head First Python, Paul Barry\", 3, 32.95],\n",
        "    [88112, \"Einführung in Python3, Bernd Klein\", 3, 24.99]\n",
        "]\n",
        "\n",
        "# Use map + lambda\n",
        "result = list(map(lambda order:\n",
        "                  (order[0], order[2] * order[3] if order[2] * order[3] >= 100\n",
        "                   else order[2] * order[3] + 10),\n",
        "                  orders))\n",
        "\n",
        "print(result)"
      ],
      "metadata": {
        "id": "lRny6uuVy0Pb",
        "colab": {
          "base_uri": "https://localhost:8080/"
        },
        "outputId": "d7a94d8a-58ad-414c-a183-9a9a1e22e648"
      },
      "execution_count": 2,
      "outputs": [
        {
          "output_type": "stream",
          "name": "stdout",
          "text": [
            "[(34587, 163.8), (98762, 284.0), (77226, 108.85000000000001), (88112, 84.97)]\n"
          ]
        }
      ]
    }
  ]
}